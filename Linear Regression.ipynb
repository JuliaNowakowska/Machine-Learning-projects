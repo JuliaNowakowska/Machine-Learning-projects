{
 "cells": [
  {
   "cell_type": "markdown",
   "id": "353acc06",
   "metadata": {},
   "source": [
    "## Exercise 2\n",
    "\n",
    "Goal of this exercise is to predict the price of the houses in Boston. Load the dataset from the text file boston.txt1 using the function np.genfromtxt. Use the first 100 rows for testing, the next 50 rows for validation, i.e., for tuning hyperparameters, and the rest of the dataset for fitting your linear model. You do not have to introduce any additional features. For each dataset report the test mean squared error.\n"
   ]
  },
  {
   "cell_type": "code",
   "execution_count": 1,
   "id": "e79725e0",
   "metadata": {},
   "outputs": [],
   "source": [
    "import numpy as np\n",
    "import pandas as pd"
   ]
  },
  {
   "cell_type": "code",
   "execution_count": 2,
   "id": "8e090385",
   "metadata": {},
   "outputs": [],
   "source": [
    "data = np.genfromtxt('boston.txt', skip_header = 22)"
   ]
  },
  {
   "cell_type": "code",
   "execution_count": 3,
   "id": "a29a4dff",
   "metadata": {},
   "outputs": [],
   "source": [
    "data_set = pd.DataFrame(data, columns = ['CRIM', 'ZN', 'INDUS', 'CHAS', 'NOX', 'RM', 'AGE', 'DIS', 'RAD', 'TAX', 'PTRATIO','B', 'LSTAT', 'MEDV'])"
   ]
  },
  {
   "cell_type": "markdown",
   "id": "c38499a3",
   "metadata": {},
   "source": [
    "Dropping the \"B\" feature, because I don't want my model to be racist. "
   ]
  },
  {
   "cell_type": "code",
   "execution_count": 4,
   "id": "011def36",
   "metadata": {},
   "outputs": [],
   "source": [
    "data_set = data_set.drop('B', axis = 1)"
   ]
  },
  {
   "cell_type": "code",
   "execution_count": 5,
   "id": "0b945b6e",
   "metadata": {},
   "outputs": [
    {
     "data": {
      "text/html": [
       "<div>\n",
       "<style scoped>\n",
       "    .dataframe tbody tr th:only-of-type {\n",
       "        vertical-align: middle;\n",
       "    }\n",
       "\n",
       "    .dataframe tbody tr th {\n",
       "        vertical-align: top;\n",
       "    }\n",
       "\n",
       "    .dataframe thead th {\n",
       "        text-align: right;\n",
       "    }\n",
       "</style>\n",
       "<table border=\"1\" class=\"dataframe\">\n",
       "  <thead>\n",
       "    <tr style=\"text-align: right;\">\n",
       "      <th></th>\n",
       "      <th>CRIM</th>\n",
       "      <th>ZN</th>\n",
       "      <th>INDUS</th>\n",
       "      <th>CHAS</th>\n",
       "      <th>NOX</th>\n",
       "      <th>RM</th>\n",
       "      <th>AGE</th>\n",
       "      <th>DIS</th>\n",
       "      <th>RAD</th>\n",
       "      <th>TAX</th>\n",
       "      <th>PTRATIO</th>\n",
       "      <th>LSTAT</th>\n",
       "      <th>MEDV</th>\n",
       "    </tr>\n",
       "  </thead>\n",
       "  <tbody>\n",
       "    <tr>\n",
       "      <th>0</th>\n",
       "      <td>0.00632</td>\n",
       "      <td>18.0</td>\n",
       "      <td>2.31</td>\n",
       "      <td>0.0</td>\n",
       "      <td>0.538</td>\n",
       "      <td>6.575</td>\n",
       "      <td>65.2</td>\n",
       "      <td>4.0900</td>\n",
       "      <td>1.0</td>\n",
       "      <td>296.0</td>\n",
       "      <td>15.3</td>\n",
       "      <td>4.98</td>\n",
       "      <td>24.0</td>\n",
       "    </tr>\n",
       "    <tr>\n",
       "      <th>1</th>\n",
       "      <td>0.02731</td>\n",
       "      <td>0.0</td>\n",
       "      <td>7.07</td>\n",
       "      <td>0.0</td>\n",
       "      <td>0.469</td>\n",
       "      <td>6.421</td>\n",
       "      <td>78.9</td>\n",
       "      <td>4.9671</td>\n",
       "      <td>2.0</td>\n",
       "      <td>242.0</td>\n",
       "      <td>17.8</td>\n",
       "      <td>9.14</td>\n",
       "      <td>21.6</td>\n",
       "    </tr>\n",
       "    <tr>\n",
       "      <th>2</th>\n",
       "      <td>0.02729</td>\n",
       "      <td>0.0</td>\n",
       "      <td>7.07</td>\n",
       "      <td>0.0</td>\n",
       "      <td>0.469</td>\n",
       "      <td>7.185</td>\n",
       "      <td>61.1</td>\n",
       "      <td>4.9671</td>\n",
       "      <td>2.0</td>\n",
       "      <td>242.0</td>\n",
       "      <td>17.8</td>\n",
       "      <td>4.03</td>\n",
       "      <td>34.7</td>\n",
       "    </tr>\n",
       "    <tr>\n",
       "      <th>3</th>\n",
       "      <td>0.03237</td>\n",
       "      <td>0.0</td>\n",
       "      <td>2.18</td>\n",
       "      <td>0.0</td>\n",
       "      <td>0.458</td>\n",
       "      <td>6.998</td>\n",
       "      <td>45.8</td>\n",
       "      <td>6.0622</td>\n",
       "      <td>3.0</td>\n",
       "      <td>222.0</td>\n",
       "      <td>18.7</td>\n",
       "      <td>2.94</td>\n",
       "      <td>33.4</td>\n",
       "    </tr>\n",
       "    <tr>\n",
       "      <th>4</th>\n",
       "      <td>0.06905</td>\n",
       "      <td>0.0</td>\n",
       "      <td>2.18</td>\n",
       "      <td>0.0</td>\n",
       "      <td>0.458</td>\n",
       "      <td>7.147</td>\n",
       "      <td>54.2</td>\n",
       "      <td>6.0622</td>\n",
       "      <td>3.0</td>\n",
       "      <td>222.0</td>\n",
       "      <td>18.7</td>\n",
       "      <td>5.33</td>\n",
       "      <td>36.2</td>\n",
       "    </tr>\n",
       "    <tr>\n",
       "      <th>...</th>\n",
       "      <td>...</td>\n",
       "      <td>...</td>\n",
       "      <td>...</td>\n",
       "      <td>...</td>\n",
       "      <td>...</td>\n",
       "      <td>...</td>\n",
       "      <td>...</td>\n",
       "      <td>...</td>\n",
       "      <td>...</td>\n",
       "      <td>...</td>\n",
       "      <td>...</td>\n",
       "      <td>...</td>\n",
       "      <td>...</td>\n",
       "    </tr>\n",
       "    <tr>\n",
       "      <th>501</th>\n",
       "      <td>0.06263</td>\n",
       "      <td>0.0</td>\n",
       "      <td>11.93</td>\n",
       "      <td>0.0</td>\n",
       "      <td>0.573</td>\n",
       "      <td>6.593</td>\n",
       "      <td>69.1</td>\n",
       "      <td>2.4786</td>\n",
       "      <td>1.0</td>\n",
       "      <td>273.0</td>\n",
       "      <td>21.0</td>\n",
       "      <td>9.67</td>\n",
       "      <td>22.4</td>\n",
       "    </tr>\n",
       "    <tr>\n",
       "      <th>502</th>\n",
       "      <td>0.04527</td>\n",
       "      <td>0.0</td>\n",
       "      <td>11.93</td>\n",
       "      <td>0.0</td>\n",
       "      <td>0.573</td>\n",
       "      <td>6.120</td>\n",
       "      <td>76.7</td>\n",
       "      <td>2.2875</td>\n",
       "      <td>1.0</td>\n",
       "      <td>273.0</td>\n",
       "      <td>21.0</td>\n",
       "      <td>9.08</td>\n",
       "      <td>20.6</td>\n",
       "    </tr>\n",
       "    <tr>\n",
       "      <th>503</th>\n",
       "      <td>0.06076</td>\n",
       "      <td>0.0</td>\n",
       "      <td>11.93</td>\n",
       "      <td>0.0</td>\n",
       "      <td>0.573</td>\n",
       "      <td>6.976</td>\n",
       "      <td>91.0</td>\n",
       "      <td>2.1675</td>\n",
       "      <td>1.0</td>\n",
       "      <td>273.0</td>\n",
       "      <td>21.0</td>\n",
       "      <td>5.64</td>\n",
       "      <td>23.9</td>\n",
       "    </tr>\n",
       "    <tr>\n",
       "      <th>504</th>\n",
       "      <td>0.10959</td>\n",
       "      <td>0.0</td>\n",
       "      <td>11.93</td>\n",
       "      <td>0.0</td>\n",
       "      <td>0.573</td>\n",
       "      <td>6.794</td>\n",
       "      <td>89.3</td>\n",
       "      <td>2.3889</td>\n",
       "      <td>1.0</td>\n",
       "      <td>273.0</td>\n",
       "      <td>21.0</td>\n",
       "      <td>6.48</td>\n",
       "      <td>22.0</td>\n",
       "    </tr>\n",
       "    <tr>\n",
       "      <th>505</th>\n",
       "      <td>0.04741</td>\n",
       "      <td>0.0</td>\n",
       "      <td>11.93</td>\n",
       "      <td>0.0</td>\n",
       "      <td>0.573</td>\n",
       "      <td>6.030</td>\n",
       "      <td>80.8</td>\n",
       "      <td>2.5050</td>\n",
       "      <td>1.0</td>\n",
       "      <td>273.0</td>\n",
       "      <td>21.0</td>\n",
       "      <td>7.88</td>\n",
       "      <td>11.9</td>\n",
       "    </tr>\n",
       "  </tbody>\n",
       "</table>\n",
       "<p>506 rows × 13 columns</p>\n",
       "</div>"
      ],
      "text/plain": [
       "        CRIM    ZN  INDUS  CHAS    NOX     RM   AGE     DIS  RAD    TAX  \\\n",
       "0    0.00632  18.0   2.31   0.0  0.538  6.575  65.2  4.0900  1.0  296.0   \n",
       "1    0.02731   0.0   7.07   0.0  0.469  6.421  78.9  4.9671  2.0  242.0   \n",
       "2    0.02729   0.0   7.07   0.0  0.469  7.185  61.1  4.9671  2.0  242.0   \n",
       "3    0.03237   0.0   2.18   0.0  0.458  6.998  45.8  6.0622  3.0  222.0   \n",
       "4    0.06905   0.0   2.18   0.0  0.458  7.147  54.2  6.0622  3.0  222.0   \n",
       "..       ...   ...    ...   ...    ...    ...   ...     ...  ...    ...   \n",
       "501  0.06263   0.0  11.93   0.0  0.573  6.593  69.1  2.4786  1.0  273.0   \n",
       "502  0.04527   0.0  11.93   0.0  0.573  6.120  76.7  2.2875  1.0  273.0   \n",
       "503  0.06076   0.0  11.93   0.0  0.573  6.976  91.0  2.1675  1.0  273.0   \n",
       "504  0.10959   0.0  11.93   0.0  0.573  6.794  89.3  2.3889  1.0  273.0   \n",
       "505  0.04741   0.0  11.93   0.0  0.573  6.030  80.8  2.5050  1.0  273.0   \n",
       "\n",
       "     PTRATIO  LSTAT  MEDV  \n",
       "0       15.3   4.98  24.0  \n",
       "1       17.8   9.14  21.6  \n",
       "2       17.8   4.03  34.7  \n",
       "3       18.7   2.94  33.4  \n",
       "4       18.7   5.33  36.2  \n",
       "..       ...    ...   ...  \n",
       "501     21.0   9.67  22.4  \n",
       "502     21.0   9.08  20.6  \n",
       "503     21.0   5.64  23.9  \n",
       "504     21.0   6.48  22.0  \n",
       "505     21.0   7.88  11.9  \n",
       "\n",
       "[506 rows x 13 columns]"
      ]
     },
     "execution_count": 5,
     "metadata": {},
     "output_type": "execute_result"
    }
   ],
   "source": [
    "data_set"
   ]
  },
  {
   "cell_type": "markdown",
   "id": "7ad0ad24",
   "metadata": {},
   "source": [
    "### Data split - features and targets"
   ]
  },
  {
   "cell_type": "code",
   "execution_count": 6,
   "id": "b18064bd",
   "metadata": {},
   "outputs": [],
   "source": [
    "X_train = data_set.iloc[150:, :-1]  # features\n",
    "y_train = data_set.iloc[150:, -1]   # last column - target median value of owner-occupied homes in $1000's\n",
    "\n",
    "X_test = data_set.iloc[:100, :-1]\n",
    "y_test = data_set.iloc[:100, -1]\n",
    "\n",
    "X_val = data_set.iloc[100:150, :-1]\n",
    "y_val = data_set.iloc[100:150, -1]"
   ]
  },
  {
   "cell_type": "markdown",
   "id": "ec518a5f",
   "metadata": {},
   "source": [
    "### Linear regression using the MLE estimator"
   ]
  },
  {
   "cell_type": "markdown",
   "id": "164fa8e2",
   "metadata": {},
   "source": [
    "MLE estimator formula:   \n",
    "$$ w_{MLE} = (X^TX)^{-1}X^Ty $$"
   ]
  },
  {
   "cell_type": "code",
   "execution_count": 7,
   "id": "3a3ed364",
   "metadata": {},
   "outputs": [],
   "source": [
    "X_train = X_train.to_numpy()\n",
    "y_train = y_train.to_numpy()\n",
    "\n",
    "w_mle = np.dot(np.dot(np.linalg.inv(np.dot(X_train.T, X_train)), X_train.T), y_train)"
   ]
  },
  {
   "cell_type": "markdown",
   "id": "fa21682d",
   "metadata": {},
   "source": [
    "Parameters of linear regression, calculated using MLE estimator formula:"
   ]
  },
  {
   "cell_type": "code",
   "execution_count": 8,
   "id": "cbc27f04",
   "metadata": {},
   "outputs": [
    {
     "data": {
      "text/plain": [
       "array([-1.10360975e-01,  6.84258958e-02, -7.31769025e-02,  3.00158574e+00,\n",
       "       -6.71850899e+00,  5.87379340e+00,  2.07389281e-02, -1.27870759e+00,\n",
       "        8.07953547e-03, -4.59799140e-03,  1.08706374e-01, -5.53690108e-01])"
      ]
     },
     "execution_count": 8,
     "metadata": {},
     "output_type": "execute_result"
    }
   ],
   "source": [
    "w_mle"
   ]
  },
  {
   "cell_type": "code",
   "execution_count": 9,
   "id": "a8db8d92",
   "metadata": {},
   "outputs": [],
   "source": [
    "def predict(weights, features):\n",
    "    \n",
    "    predictions = []\n",
    "    \n",
    "    for row in range(features.shape[0]):\n",
    "        predictions.append(np.dot(weights, features.iloc[row, :]))\n",
    "        \n",
    "    return predictions\n",
    "\n",
    "\n",
    "test_pred_mle = predict(w_mle, X_test)"
   ]
  },
  {
   "cell_type": "markdown",
   "id": "0e5ba660",
   "metadata": {},
   "source": [
    "#### Evaluation"
   ]
  },
  {
   "cell_type": "code",
   "execution_count": 10,
   "id": "ec4d986f",
   "metadata": {},
   "outputs": [],
   "source": [
    "mse_mle = np.square(np.subtract(y_test, test_pred_mle)).mean()"
   ]
  },
  {
   "cell_type": "code",
   "execution_count": 11,
   "id": "5756e511",
   "metadata": {},
   "outputs": [
    {
     "data": {
      "text/plain": [
       "11.959718840650325"
      ]
     },
     "execution_count": 11,
     "metadata": {},
     "output_type": "execute_result"
    }
   ],
   "source": [
    "mse_mle"
   ]
  },
  {
   "cell_type": "markdown",
   "id": "a851507a",
   "metadata": {},
   "source": [
    "### Linear regression using the ridge regression estimator"
   ]
  },
  {
   "cell_type": "markdown",
   "id": "8312c913",
   "metadata": {},
   "source": [
    "MLE estimator formula:   \n",
    "$$ w_{MLE} = ( \\lambda I + X^TX)^{-1}X^Ty $$"
   ]
  },
  {
   "cell_type": "code",
   "execution_count": 12,
   "id": "79350782",
   "metadata": {},
   "outputs": [],
   "source": [
    "lam = 0.6\n",
    "\n",
    "w_ridge = np.dot(np.dot(np.linalg.inv(np.dot(lam, np.identity(12)) + np.dot(X_train.T, X_train)), X_train.T), y_train)"
   ]
  },
  {
   "cell_type": "code",
   "execution_count": 13,
   "id": "fcaf3c30",
   "metadata": {},
   "outputs": [],
   "source": [
    "test_pred_ridge = predict(w_ridge, X_test)"
   ]
  },
  {
   "cell_type": "markdown",
   "id": "6c3bbfb1",
   "metadata": {},
   "source": [
    "#### Evaluation"
   ]
  },
  {
   "cell_type": "code",
   "execution_count": 14,
   "id": "2d2c8bc9",
   "metadata": {},
   "outputs": [],
   "source": [
    "mse_ridge = np.square(np.subtract(y_test, test_pred_ridge)).mean()"
   ]
  },
  {
   "cell_type": "code",
   "execution_count": 15,
   "id": "260d4ef1",
   "metadata": {},
   "outputs": [
    {
     "data": {
      "text/plain": [
       "11.796587217512931"
      ]
     },
     "execution_count": 15,
     "metadata": {},
     "output_type": "execute_result"
    }
   ],
   "source": [
    "mse_ridge"
   ]
  }
 ],
 "metadata": {
  "kernelspec": {
   "display_name": "Python 3 (ipykernel)",
   "language": "python",
   "name": "python3"
  },
  "language_info": {
   "codemirror_mode": {
    "name": "ipython",
    "version": 3
   },
   "file_extension": ".py",
   "mimetype": "text/x-python",
   "name": "python",
   "nbconvert_exporter": "python",
   "pygments_lexer": "ipython3",
   "version": "3.9.7"
  }
 },
 "nbformat": 4,
 "nbformat_minor": 5
}
