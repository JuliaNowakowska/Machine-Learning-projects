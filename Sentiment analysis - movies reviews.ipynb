{
 "cells": [
  {
   "cell_type": "code",
   "execution_count": 1,
   "id": "6ae752a1",
   "metadata": {
    "execution": {
     "iopub.execute_input": "2022-10-11T18:27:01.949441Z",
     "iopub.status.busy": "2022-10-11T18:27:01.948871Z",
     "iopub.status.idle": "2022-10-11T18:27:02.873216Z",
     "shell.execute_reply": "2022-10-11T18:27:02.872254Z"
    },
    "papermill": {
     "duration": 0.937174,
     "end_time": "2022-10-11T18:27:02.875759",
     "exception": false,
     "start_time": "2022-10-11T18:27:01.938585",
     "status": "completed"
    },
    "tags": []
   },
   "outputs": [],
   "source": [
    "import pandas as pd\n",
    "pd.options.mode.chained_assignment = None \n",
    "\n",
    "data_train = pd.read_csv('../input/word2vec-nlp-tutorial/labeledTrainData.tsv.zip', sep = '\\t')"
   ]
  },
  {
   "cell_type": "code",
   "execution_count": 2,
   "id": "5fe4f1b0",
   "metadata": {
    "execution": {
     "iopub.execute_input": "2022-10-11T18:27:02.893750Z",
     "iopub.status.busy": "2022-10-11T18:27:02.892820Z",
     "iopub.status.idle": "2022-10-11T18:27:02.915732Z",
     "shell.execute_reply": "2022-10-11T18:27:02.914679Z"
    },
    "papermill": {
     "duration": 0.035121,
     "end_time": "2022-10-11T18:27:02.918819",
     "exception": false,
     "start_time": "2022-10-11T18:27:02.883698",
     "status": "completed"
    },
    "tags": []
   },
   "outputs": [
    {
     "data": {
      "text/html": [
       "<div>\n",
       "<style scoped>\n",
       "    .dataframe tbody tr th:only-of-type {\n",
       "        vertical-align: middle;\n",
       "    }\n",
       "\n",
       "    .dataframe tbody tr th {\n",
       "        vertical-align: top;\n",
       "    }\n",
       "\n",
       "    .dataframe thead th {\n",
       "        text-align: right;\n",
       "    }\n",
       "</style>\n",
       "<table border=\"1\" class=\"dataframe\">\n",
       "  <thead>\n",
       "    <tr style=\"text-align: right;\">\n",
       "      <th></th>\n",
       "      <th>id</th>\n",
       "      <th>sentiment</th>\n",
       "      <th>review</th>\n",
       "    </tr>\n",
       "  </thead>\n",
       "  <tbody>\n",
       "    <tr>\n",
       "      <th>0</th>\n",
       "      <td>5814_8</td>\n",
       "      <td>1</td>\n",
       "      <td>With all this stuff going down at the moment w...</td>\n",
       "    </tr>\n",
       "    <tr>\n",
       "      <th>1</th>\n",
       "      <td>2381_9</td>\n",
       "      <td>1</td>\n",
       "      <td>\\The Classic War of the Worlds\\\" by Timothy Hi...</td>\n",
       "    </tr>\n",
       "    <tr>\n",
       "      <th>2</th>\n",
       "      <td>7759_3</td>\n",
       "      <td>0</td>\n",
       "      <td>The film starts with a manager (Nicholas Bell)...</td>\n",
       "    </tr>\n",
       "    <tr>\n",
       "      <th>3</th>\n",
       "      <td>3630_4</td>\n",
       "      <td>0</td>\n",
       "      <td>It must be assumed that those who praised this...</td>\n",
       "    </tr>\n",
       "    <tr>\n",
       "      <th>4</th>\n",
       "      <td>9495_8</td>\n",
       "      <td>1</td>\n",
       "      <td>Superbly trashy and wondrously unpretentious 8...</td>\n",
       "    </tr>\n",
       "    <tr>\n",
       "      <th>...</th>\n",
       "      <td>...</td>\n",
       "      <td>...</td>\n",
       "      <td>...</td>\n",
       "    </tr>\n",
       "    <tr>\n",
       "      <th>24995</th>\n",
       "      <td>3453_3</td>\n",
       "      <td>0</td>\n",
       "      <td>It seems like more consideration has gone into...</td>\n",
       "    </tr>\n",
       "    <tr>\n",
       "      <th>24996</th>\n",
       "      <td>5064_1</td>\n",
       "      <td>0</td>\n",
       "      <td>I don't believe they made this film. Completel...</td>\n",
       "    </tr>\n",
       "    <tr>\n",
       "      <th>24997</th>\n",
       "      <td>10905_3</td>\n",
       "      <td>0</td>\n",
       "      <td>Guy is a loser. Can't get girls, needs to buil...</td>\n",
       "    </tr>\n",
       "    <tr>\n",
       "      <th>24998</th>\n",
       "      <td>10194_3</td>\n",
       "      <td>0</td>\n",
       "      <td>This 30 minute documentary Buñuel made in the ...</td>\n",
       "    </tr>\n",
       "    <tr>\n",
       "      <th>24999</th>\n",
       "      <td>8478_8</td>\n",
       "      <td>1</td>\n",
       "      <td>I saw this movie as a child and it broke my he...</td>\n",
       "    </tr>\n",
       "  </tbody>\n",
       "</table>\n",
       "<p>25000 rows × 3 columns</p>\n",
       "</div>"
      ],
      "text/plain": [
       "            id  sentiment                                             review\n",
       "0       5814_8          1  With all this stuff going down at the moment w...\n",
       "1       2381_9          1  \\The Classic War of the Worlds\\\" by Timothy Hi...\n",
       "2       7759_3          0  The film starts with a manager (Nicholas Bell)...\n",
       "3       3630_4          0  It must be assumed that those who praised this...\n",
       "4       9495_8          1  Superbly trashy and wondrously unpretentious 8...\n",
       "...        ...        ...                                                ...\n",
       "24995   3453_3          0  It seems like more consideration has gone into...\n",
       "24996   5064_1          0  I don't believe they made this film. Completel...\n",
       "24997  10905_3          0  Guy is a loser. Can't get girls, needs to buil...\n",
       "24998  10194_3          0  This 30 minute documentary Buñuel made in the ...\n",
       "24999   8478_8          1  I saw this movie as a child and it broke my he...\n",
       "\n",
       "[25000 rows x 3 columns]"
      ]
     },
     "execution_count": 2,
     "metadata": {},
     "output_type": "execute_result"
    }
   ],
   "source": [
    "data_train"
   ]
  },
  {
   "cell_type": "markdown",
   "id": "75d5c763",
   "metadata": {
    "papermill": {
     "duration": 0.007722,
     "end_time": "2022-10-11T18:27:02.934419",
     "exception": false,
     "start_time": "2022-10-11T18:27:02.926697",
     "status": "completed"
    },
    "tags": []
   },
   "source": [
    "## Cleaning the data"
   ]
  },
  {
   "cell_type": "markdown",
   "id": "54ad111b",
   "metadata": {
    "papermill": {
     "duration": 0.007564,
     "end_time": "2022-10-11T18:27:02.950843",
     "exception": false,
     "start_time": "2022-10-11T18:27:02.943279",
     "status": "completed"
    },
    "tags": []
   },
   "source": [
    "### Removing the HTML formatting"
   ]
  },
  {
   "cell_type": "code",
   "execution_count": 3,
   "id": "3149afc3",
   "metadata": {
    "execution": {
     "iopub.execute_input": "2022-10-11T18:27:02.970859Z",
     "iopub.status.busy": "2022-10-11T18:27:02.970451Z",
     "iopub.status.idle": "2022-10-11T18:27:23.738511Z",
     "shell.execute_reply": "2022-10-11T18:27:23.737525Z"
    },
    "papermill": {
     "duration": 20.779657,
     "end_time": "2022-10-11T18:27:23.740886",
     "exception": false,
     "start_time": "2022-10-11T18:27:02.961229",
     "status": "completed"
    },
    "tags": []
   },
   "outputs": [
    {
     "name": "stderr",
     "output_type": "stream",
     "text": [
      "/opt/conda/lib/python3.7/site-packages/bs4/__init__.py:439: MarkupResemblesLocatorWarning: The input looks more like a filename than markup. You may want to open this file and pass the filehandle into Beautiful Soup.\n",
      "  MarkupResemblesLocatorWarning\n"
     ]
    }
   ],
   "source": [
    "from bs4 import BeautifulSoup\n",
    "\n",
    "for i in range(len(data_train)):\n",
    "    data_train[\"review\"][i] = BeautifulSoup(data_train[\"review\"][i]).get_text()"
   ]
  },
  {
   "cell_type": "markdown",
   "id": "b026c02b",
   "metadata": {
    "papermill": {
     "duration": 0.007497,
     "end_time": "2022-10-11T18:27:23.756563",
     "exception": false,
     "start_time": "2022-10-11T18:27:23.749066",
     "status": "completed"
    },
    "tags": []
   },
   "source": [
    "### Removing punctuation"
   ]
  },
  {
   "cell_type": "code",
   "execution_count": 4,
   "id": "92b26c6d",
   "metadata": {
    "execution": {
     "iopub.execute_input": "2022-10-11T18:27:23.772955Z",
     "iopub.status.busy": "2022-10-11T18:27:23.772650Z",
     "iopub.status.idle": "2022-10-11T18:27:35.231175Z",
     "shell.execute_reply": "2022-10-11T18:27:35.230197Z"
    },
    "papermill": {
     "duration": 11.46948,
     "end_time": "2022-10-11T18:27:35.233615",
     "exception": false,
     "start_time": "2022-10-11T18:27:23.764135",
     "status": "completed"
    },
    "tags": []
   },
   "outputs": [],
   "source": [
    "import re\n",
    "\n",
    "for i in range(len(data_train)):\n",
    "    data_train[\"review\"][i] = re.sub(\"[,.;:'-*]\", \" \", data_train[\"review\"][i])"
   ]
  },
  {
   "cell_type": "markdown",
   "id": "2bbf6123",
   "metadata": {
    "papermill": {
     "duration": 0.007591,
     "end_time": "2022-10-11T18:27:35.249405",
     "exception": false,
     "start_time": "2022-10-11T18:27:35.241814",
     "status": "completed"
    },
    "tags": []
   },
   "source": [
    "### Converting to lower case"
   ]
  },
  {
   "cell_type": "code",
   "execution_count": 5,
   "id": "49ebe335",
   "metadata": {
    "execution": {
     "iopub.execute_input": "2022-10-11T18:27:35.266217Z",
     "iopub.status.busy": "2022-10-11T18:27:35.265862Z",
     "iopub.status.idle": "2022-10-11T18:27:46.543971Z",
     "shell.execute_reply": "2022-10-11T18:27:46.543016Z"
    },
    "papermill": {
     "duration": 11.289299,
     "end_time": "2022-10-11T18:27:46.546375",
     "exception": false,
     "start_time": "2022-10-11T18:27:35.257076",
     "status": "completed"
    },
    "tags": []
   },
   "outputs": [],
   "source": [
    "for i in range(len(data_train)):\n",
    "    data_train[\"review\"][i] = data_train[\"review\"][i].lower()"
   ]
  },
  {
   "cell_type": "markdown",
   "id": "2d441016",
   "metadata": {
    "papermill": {
     "duration": 0.007626,
     "end_time": "2022-10-11T18:27:46.562153",
     "exception": false,
     "start_time": "2022-10-11T18:27:46.554527",
     "status": "completed"
    },
    "tags": []
   },
   "source": [
    "### Removing stop words"
   ]
  },
  {
   "cell_type": "code",
   "execution_count": 6,
   "id": "6300addb",
   "metadata": {
    "execution": {
     "iopub.execute_input": "2022-10-11T18:27:46.579275Z",
     "iopub.status.busy": "2022-10-11T18:27:46.578610Z",
     "iopub.status.idle": "2022-10-11T18:28:05.874227Z",
     "shell.execute_reply": "2022-10-11T18:28:05.873232Z"
    },
    "papermill": {
     "duration": 19.306801,
     "end_time": "2022-10-11T18:28:05.876616",
     "exception": false,
     "start_time": "2022-10-11T18:27:46.569815",
     "status": "completed"
    },
    "tags": []
   },
   "outputs": [],
   "source": [
    "import nltk\n",
    "from nltk.corpus import stopwords\n",
    "\n",
    "for w in stopwords.words('english'):\n",
    "    data_train['review'] = data_train[\"review\"].str.replace(' ' + str(w) + ' ', ' ')\n"
   ]
  },
  {
   "cell_type": "markdown",
   "id": "5fce3d93",
   "metadata": {
    "papermill": {
     "duration": 0.007507,
     "end_time": "2022-10-11T18:28:05.892344",
     "exception": false,
     "start_time": "2022-10-11T18:28:05.884837",
     "status": "completed"
    },
    "tags": []
   },
   "source": [
    "### Stemming the words"
   ]
  },
  {
   "cell_type": "code",
   "execution_count": 7,
   "id": "4a916325",
   "metadata": {
    "execution": {
     "iopub.execute_input": "2022-10-11T18:28:05.910706Z",
     "iopub.status.busy": "2022-10-11T18:28:05.908960Z",
     "iopub.status.idle": "2022-10-11T18:29:34.591811Z",
     "shell.execute_reply": "2022-10-11T18:29:34.590822Z"
    },
    "papermill": {
     "duration": 88.694289,
     "end_time": "2022-10-11T18:29:34.594333",
     "exception": false,
     "start_time": "2022-10-11T18:28:05.900044",
     "status": "completed"
    },
    "tags": []
   },
   "outputs": [],
   "source": [
    "from nltk.stem import LancasterStemmer\n",
    "\n",
    "lancaster = LancasterStemmer()\n",
    "\n",
    "for i in range(len(data_train)):\n",
    "    data_train['review'][i] = data_train['review'][i].split(' ')\n",
    "    data_train['review'][i] = [lancaster.stem(y) for y in data_train['review'][i]]\n",
    "    data_train['review'][i] = ' '.join(data_train['review'][i])"
   ]
  },
  {
   "cell_type": "code",
   "execution_count": 8,
   "id": "05780d15",
   "metadata": {
    "execution": {
     "iopub.execute_input": "2022-10-11T18:29:34.611706Z",
     "iopub.status.busy": "2022-10-11T18:29:34.611402Z",
     "iopub.status.idle": "2022-10-11T18:29:34.622635Z",
     "shell.execute_reply": "2022-10-11T18:29:34.621732Z"
    },
    "papermill": {
     "duration": 0.022027,
     "end_time": "2022-10-11T18:29:34.624652",
     "exception": false,
     "start_time": "2022-10-11T18:29:34.602625",
     "status": "completed"
    },
    "tags": []
   },
   "outputs": [
    {
     "data": {
      "text/html": [
       "<div>\n",
       "<style scoped>\n",
       "    .dataframe tbody tr th:only-of-type {\n",
       "        vertical-align: middle;\n",
       "    }\n",
       "\n",
       "    .dataframe tbody tr th {\n",
       "        vertical-align: top;\n",
       "    }\n",
       "\n",
       "    .dataframe thead th {\n",
       "        text-align: right;\n",
       "    }\n",
       "</style>\n",
       "<table border=\"1\" class=\"dataframe\">\n",
       "  <thead>\n",
       "    <tr style=\"text-align: right;\">\n",
       "      <th></th>\n",
       "      <th>id</th>\n",
       "      <th>sentiment</th>\n",
       "      <th>review</th>\n",
       "    </tr>\n",
       "  </thead>\n",
       "  <tbody>\n",
       "    <tr>\n",
       "      <th>0</th>\n",
       "      <td>5814_8</td>\n",
       "      <td>1</td>\n",
       "      <td>with stuff going mom mj start list mus  watch ...</td>\n",
       "    </tr>\n",
       "    <tr>\n",
       "      <th>1</th>\n",
       "      <td>2381_9</td>\n",
       "      <td>1</td>\n",
       "      <td>\\the class war worlds\\\" timothy hin entertain ...</td>\n",
       "    </tr>\n",
       "    <tr>\n",
       "      <th>2</th>\n",
       "      <td>7759_3</td>\n",
       "      <td>0</td>\n",
       "      <td>the film start man  nichola bel  giv welcom in...</td>\n",
       "    </tr>\n",
       "    <tr>\n",
       "      <th>3</th>\n",
       "      <td>3630_4</td>\n",
       "      <td>0</td>\n",
       "      <td>it must assum pra film  \\the greatest film ope...</td>\n",
       "    </tr>\n",
       "    <tr>\n",
       "      <th>4</th>\n",
       "      <td>9495_8</td>\n",
       "      <td>1</td>\n",
       "      <td>superbl trashy wondr unpretenty 80 exploit  ho...</td>\n",
       "    </tr>\n",
       "  </tbody>\n",
       "</table>\n",
       "</div>"
      ],
      "text/plain": [
       "       id  sentiment                                             review\n",
       "0  5814_8          1  with stuff going mom mj start list mus  watch ...\n",
       "1  2381_9          1  \\the class war worlds\\\" timothy hin entertain ...\n",
       "2  7759_3          0  the film start man  nichola bel  giv welcom in...\n",
       "3  3630_4          0  it must assum pra film  \\the greatest film ope...\n",
       "4  9495_8          1  superbl trashy wondr unpretenty 80 exploit  ho..."
      ]
     },
     "execution_count": 8,
     "metadata": {},
     "output_type": "execute_result"
    }
   ],
   "source": [
    "data_train.head()"
   ]
  },
  {
   "cell_type": "markdown",
   "id": "5f0a274d",
   "metadata": {
    "papermill": {
     "duration": 0.007781,
     "end_time": "2022-10-11T18:29:34.640277",
     "exception": false,
     "start_time": "2022-10-11T18:29:34.632496",
     "status": "completed"
    },
    "tags": []
   },
   "source": [
    "### Vectorization of the words"
   ]
  },
  {
   "cell_type": "code",
   "execution_count": 9,
   "id": "fcc2990f",
   "metadata": {
    "execution": {
     "iopub.execute_input": "2022-10-11T18:29:34.657262Z",
     "iopub.status.busy": "2022-10-11T18:29:34.656706Z",
     "iopub.status.idle": "2022-10-11T18:29:37.433435Z",
     "shell.execute_reply": "2022-10-11T18:29:37.432439Z"
    },
    "papermill": {
     "duration": 2.787753,
     "end_time": "2022-10-11T18:29:37.435808",
     "exception": false,
     "start_time": "2022-10-11T18:29:34.648055",
     "status": "completed"
    },
    "tags": []
   },
   "outputs": [],
   "source": [
    "from sklearn.feature_extraction.text import CountVectorizer\n",
    "\n",
    "vectorizer = CountVectorizer(max_features = 5000) \n",
    "\n",
    "x = vectorizer.fit_transform(data_train['review']).toarray()\n",
    "y = data_train['sentiment']"
   ]
  },
  {
   "cell_type": "markdown",
   "id": "f0bab3e1",
   "metadata": {
    "papermill": {
     "duration": 0.007828,
     "end_time": "2022-10-11T18:29:37.451696",
     "exception": false,
     "start_time": "2022-10-11T18:29:37.443868",
     "status": "completed"
    },
    "tags": []
   },
   "source": [
    "### Data split"
   ]
  },
  {
   "cell_type": "code",
   "execution_count": 10,
   "id": "26a8d718",
   "metadata": {
    "execution": {
     "iopub.execute_input": "2022-10-11T18:29:37.469173Z",
     "iopub.status.busy": "2022-10-11T18:29:37.468844Z",
     "iopub.status.idle": "2022-10-11T18:29:37.769115Z",
     "shell.execute_reply": "2022-10-11T18:29:37.768137Z"
    },
    "papermill": {
     "duration": 0.311709,
     "end_time": "2022-10-11T18:29:37.771514",
     "exception": false,
     "start_time": "2022-10-11T18:29:37.459805",
     "status": "completed"
    },
    "tags": []
   },
   "outputs": [],
   "source": [
    "from sklearn.model_selection import train_test_split\n",
    "\n",
    "X_train, X_test, y_train, y_test = train_test_split(x, y, test_size = 0.25, random_state=32)"
   ]
  },
  {
   "cell_type": "markdown",
   "id": "cc8e1a2d",
   "metadata": {
    "papermill": {
     "duration": 0.007699,
     "end_time": "2022-10-11T18:29:37.787261",
     "exception": false,
     "start_time": "2022-10-11T18:29:37.779562",
     "status": "completed"
    },
    "tags": []
   },
   "source": [
    "### Feature scaling"
   ]
  },
  {
   "cell_type": "code",
   "execution_count": 11,
   "id": "23df544c",
   "metadata": {
    "execution": {
     "iopub.execute_input": "2022-10-11T18:29:37.804331Z",
     "iopub.status.busy": "2022-10-11T18:29:37.803817Z",
     "iopub.status.idle": "2022-10-11T18:29:39.540746Z",
     "shell.execute_reply": "2022-10-11T18:29:39.539757Z"
    },
    "papermill": {
     "duration": 1.748354,
     "end_time": "2022-10-11T18:29:39.543344",
     "exception": false,
     "start_time": "2022-10-11T18:29:37.794990",
     "status": "completed"
    },
    "tags": []
   },
   "outputs": [],
   "source": [
    "from sklearn.preprocessing import StandardScaler\n",
    "\n",
    "sc = StandardScaler()\n",
    "\n",
    "X_train = sc.fit_transform(X_train)\n",
    "X_test = sc.transform(X_test)"
   ]
  },
  {
   "cell_type": "markdown",
   "id": "d8be84f8",
   "metadata": {
    "papermill": {
     "duration": 0.007745,
     "end_time": "2022-10-11T18:29:39.559208",
     "exception": false,
     "start_time": "2022-10-11T18:29:39.551463",
     "status": "completed"
    },
    "tags": []
   },
   "source": [
    "## Predictions\n",
    "\n",
    "Following algorithms have been compared:\n",
    "* Naive Bayes\n",
    "* Logistic Regression\n",
    "* Random Forest Classifier\n",
    "* Deep Learning: Long Short-Term Memory"
   ]
  },
  {
   "cell_type": "markdown",
   "id": "2ca5353e",
   "metadata": {
    "papermill": {
     "duration": 0.007604,
     "end_time": "2022-10-11T18:29:39.574541",
     "exception": false,
     "start_time": "2022-10-11T18:29:39.566937",
     "status": "completed"
    },
    "tags": []
   },
   "source": [
    "### Naive Bayes"
   ]
  },
  {
   "cell_type": "code",
   "execution_count": 12,
   "id": "68d76094",
   "metadata": {
    "execution": {
     "iopub.execute_input": "2022-10-11T18:29:39.591287Z",
     "iopub.status.busy": "2022-10-11T18:29:39.590970Z",
     "iopub.status.idle": "2022-10-11T18:29:41.247678Z",
     "shell.execute_reply": "2022-10-11T18:29:41.246694Z"
    },
    "papermill": {
     "duration": 1.66814,
     "end_time": "2022-10-11T18:29:41.250358",
     "exception": false,
     "start_time": "2022-10-11T18:29:39.582218",
     "status": "completed"
    },
    "tags": []
   },
   "outputs": [],
   "source": [
    "from sklearn.naive_bayes import GaussianNB\n",
    "\n",
    "#Creating the model\n",
    "nb_model = GaussianNB()\n",
    "nb_model.fit(X_train, y_train)\n",
    "\n",
    "#Predictions\n",
    "nb_predict = nb_model.predict(X_test)"
   ]
  },
  {
   "cell_type": "code",
   "execution_count": 13,
   "id": "7bd48030",
   "metadata": {
    "execution": {
     "iopub.execute_input": "2022-10-11T18:29:41.268940Z",
     "iopub.status.busy": "2022-10-11T18:29:41.267294Z",
     "iopub.status.idle": "2022-10-11T18:29:41.274435Z",
     "shell.execute_reply": "2022-10-11T18:29:41.273425Z"
    },
    "papermill": {
     "duration": 0.018513,
     "end_time": "2022-10-11T18:29:41.276932",
     "exception": false,
     "start_time": "2022-10-11T18:29:41.258419",
     "status": "completed"
    },
    "tags": []
   },
   "outputs": [
    {
     "data": {
      "text/plain": [
       "array([1, 0, 0, ..., 0, 0, 0])"
      ]
     },
     "execution_count": 13,
     "metadata": {},
     "output_type": "execute_result"
    }
   ],
   "source": [
    "nb_predict"
   ]
  },
  {
   "cell_type": "code",
   "execution_count": 14,
   "id": "a5a64599",
   "metadata": {
    "execution": {
     "iopub.execute_input": "2022-10-11T18:29:41.293700Z",
     "iopub.status.busy": "2022-10-11T18:29:41.293437Z",
     "iopub.status.idle": "2022-10-11T18:29:41.299560Z",
     "shell.execute_reply": "2022-10-11T18:29:41.298755Z"
    },
    "papermill": {
     "duration": 0.016922,
     "end_time": "2022-10-11T18:29:41.301671",
     "exception": false,
     "start_time": "2022-10-11T18:29:41.284749",
     "status": "completed"
    },
    "tags": []
   },
   "outputs": [],
   "source": [
    "from sklearn.metrics import accuracy_score\n",
    "\n",
    "nb_accuracy = accuracy_score(y_test, nb_predict)\n"
   ]
  },
  {
   "cell_type": "markdown",
   "id": "4a2e50b5",
   "metadata": {
    "papermill": {
     "duration": 0.007666,
     "end_time": "2022-10-11T18:29:41.317053",
     "exception": false,
     "start_time": "2022-10-11T18:29:41.309387",
     "status": "completed"
    },
    "tags": []
   },
   "source": [
    "### Logistic Regression"
   ]
  },
  {
   "cell_type": "code",
   "execution_count": 15,
   "id": "7265bc21",
   "metadata": {
    "execution": {
     "iopub.execute_input": "2022-10-11T18:29:41.333616Z",
     "iopub.status.busy": "2022-10-11T18:29:41.333365Z",
     "iopub.status.idle": "2022-10-11T18:30:08.809256Z",
     "shell.execute_reply": "2022-10-11T18:30:08.807858Z"
    },
    "papermill": {
     "duration": 27.488578,
     "end_time": "2022-10-11T18:30:08.813359",
     "exception": false,
     "start_time": "2022-10-11T18:29:41.324781",
     "status": "completed"
    },
    "tags": []
   },
   "outputs": [],
   "source": [
    "from sklearn.linear_model import LogisticRegression\n",
    "\n",
    "#Creating the model\n",
    "log_model = LogisticRegression(max_iter = 500)\n",
    "log_model.fit(X_train, y_train)\n",
    "\n",
    "#Predictions\n",
    "log_predict = log_model.predict(X_test)"
   ]
  },
  {
   "cell_type": "code",
   "execution_count": 16,
   "id": "2356bce0",
   "metadata": {
    "execution": {
     "iopub.execute_input": "2022-10-11T18:30:08.857692Z",
     "iopub.status.busy": "2022-10-11T18:30:08.857113Z",
     "iopub.status.idle": "2022-10-11T18:30:08.864319Z",
     "shell.execute_reply": "2022-10-11T18:30:08.863149Z"
    },
    "papermill": {
     "duration": 0.032756,
     "end_time": "2022-10-11T18:30:08.867572",
     "exception": false,
     "start_time": "2022-10-11T18:30:08.834816",
     "status": "completed"
    },
    "tags": []
   },
   "outputs": [],
   "source": [
    "log_accuracy = accuracy_score(y_test, log_predict)"
   ]
  },
  {
   "cell_type": "markdown",
   "id": "fd1a23bf",
   "metadata": {
    "papermill": {
     "duration": 0.020248,
     "end_time": "2022-10-11T18:30:08.908475",
     "exception": false,
     "start_time": "2022-10-11T18:30:08.888227",
     "status": "completed"
    },
    "tags": []
   },
   "source": [
    "### Random Forest Classifier"
   ]
  },
  {
   "cell_type": "code",
   "execution_count": 17,
   "id": "dc8256ee",
   "metadata": {
    "execution": {
     "iopub.execute_input": "2022-10-11T18:30:08.945485Z",
     "iopub.status.busy": "2022-10-11T18:30:08.945140Z",
     "iopub.status.idle": "2022-10-11T18:30:19.943919Z",
     "shell.execute_reply": "2022-10-11T18:30:19.942945Z"
    },
    "papermill": {
     "duration": 11.017119,
     "end_time": "2022-10-11T18:30:19.946348",
     "exception": false,
     "start_time": "2022-10-11T18:30:08.929229",
     "status": "completed"
    },
    "tags": []
   },
   "outputs": [],
   "source": [
    "from sklearn.ensemble import RandomForestClassifier\n",
    "\n",
    "#Creating the model\n",
    "rf_model = RandomForestClassifier(max_depth = 10, random_state=0)\n",
    "rf_model.fit(X_train, y_train)\n",
    "\n",
    "#Predictions\n",
    "rf_predict = rf_model.predict(X_test)"
   ]
  },
  {
   "cell_type": "code",
   "execution_count": 18,
   "id": "84788f4a",
   "metadata": {
    "execution": {
     "iopub.execute_input": "2022-10-11T18:30:19.964168Z",
     "iopub.status.busy": "2022-10-11T18:30:19.963846Z",
     "iopub.status.idle": "2022-10-11T18:30:19.970308Z",
     "shell.execute_reply": "2022-10-11T18:30:19.969424Z"
    },
    "papermill": {
     "duration": 0.017514,
     "end_time": "2022-10-11T18:30:19.972304",
     "exception": false,
     "start_time": "2022-10-11T18:30:19.954790",
     "status": "completed"
    },
    "tags": []
   },
   "outputs": [],
   "source": [
    "rf_accuracy = accuracy_score(y_test, rf_predict)"
   ]
  },
  {
   "cell_type": "markdown",
   "id": "de14487a",
   "metadata": {
    "papermill": {
     "duration": 0.007621,
     "end_time": "2022-10-11T18:30:19.987828",
     "exception": false,
     "start_time": "2022-10-11T18:30:19.980207",
     "status": "completed"
    },
    "tags": []
   },
   "source": [
    "### Neural Network"
   ]
  },
  {
   "cell_type": "code",
   "execution_count": 19,
   "id": "b3ed90aa",
   "metadata": {
    "execution": {
     "iopub.execute_input": "2022-10-11T18:30:20.005720Z",
     "iopub.status.busy": "2022-10-11T18:30:20.004340Z",
     "iopub.status.idle": "2022-10-11T18:30:45.563818Z",
     "shell.execute_reply": "2022-10-11T18:30:45.562820Z"
    },
    "papermill": {
     "duration": 25.570626,
     "end_time": "2022-10-11T18:30:45.566330",
     "exception": false,
     "start_time": "2022-10-11T18:30:19.995704",
     "status": "completed"
    },
    "tags": []
   },
   "outputs": [
    {
     "name": "stderr",
     "output_type": "stream",
     "text": [
      "2022-10-11 18:30:24.819847: I tensorflow/stream_executor/cuda/cuda_gpu_executor.cc:937] successful NUMA node read from SysFS had negative value (-1), but there must be at least one NUMA node, so returning NUMA node zero\n",
      "2022-10-11 18:30:24.913073: I tensorflow/stream_executor/cuda/cuda_gpu_executor.cc:937] successful NUMA node read from SysFS had negative value (-1), but there must be at least one NUMA node, so returning NUMA node zero\n",
      "2022-10-11 18:30:24.913883: I tensorflow/stream_executor/cuda/cuda_gpu_executor.cc:937] successful NUMA node read from SysFS had negative value (-1), but there must be at least one NUMA node, so returning NUMA node zero\n",
      "2022-10-11 18:30:24.915911: I tensorflow/core/platform/cpu_feature_guard.cc:142] This TensorFlow binary is optimized with oneAPI Deep Neural Network Library (oneDNN) to use the following CPU instructions in performance-critical operations:  AVX2 AVX512F FMA\n",
      "To enable them in other operations, rebuild TensorFlow with the appropriate compiler flags.\n",
      "2022-10-11 18:30:24.916340: I tensorflow/stream_executor/cuda/cuda_gpu_executor.cc:937] successful NUMA node read from SysFS had negative value (-1), but there must be at least one NUMA node, so returning NUMA node zero\n",
      "2022-10-11 18:30:24.917329: I tensorflow/stream_executor/cuda/cuda_gpu_executor.cc:937] successful NUMA node read from SysFS had negative value (-1), but there must be at least one NUMA node, so returning NUMA node zero\n",
      "2022-10-11 18:30:24.918240: I tensorflow/stream_executor/cuda/cuda_gpu_executor.cc:937] successful NUMA node read from SysFS had negative value (-1), but there must be at least one NUMA node, so returning NUMA node zero\n",
      "2022-10-11 18:30:27.066284: I tensorflow/stream_executor/cuda/cuda_gpu_executor.cc:937] successful NUMA node read from SysFS had negative value (-1), but there must be at least one NUMA node, so returning NUMA node zero\n",
      "2022-10-11 18:30:27.067291: I tensorflow/stream_executor/cuda/cuda_gpu_executor.cc:937] successful NUMA node read from SysFS had negative value (-1), but there must be at least one NUMA node, so returning NUMA node zero\n",
      "2022-10-11 18:30:27.068134: I tensorflow/stream_executor/cuda/cuda_gpu_executor.cc:937] successful NUMA node read from SysFS had negative value (-1), but there must be at least one NUMA node, so returning NUMA node zero\n",
      "2022-10-11 18:30:27.068718: I tensorflow/core/common_runtime/gpu/gpu_device.cc:1510] Created device /job:localhost/replica:0/task:0/device:GPU:0 with 15401 MB memory:  -> device: 0, name: Tesla P100-PCIE-16GB, pci bus id: 0000:00:04.0, compute capability: 6.0\n",
      "2022-10-11 18:30:28.342273: I tensorflow/compiler/mlir/mlir_graph_optimization_pass.cc:185] None of the MLIR Optimization Passes are enabled (registered 2)\n"
     ]
    },
    {
     "name": "stdout",
     "output_type": "stream",
     "text": [
      "Epoch 1/10\n",
      "586/586 [==============================] - 3s 2ms/step - loss: 0.4152\n",
      "Epoch 2/10\n",
      "586/586 [==============================] - 1s 2ms/step - loss: 0.2297\n",
      "Epoch 3/10\n",
      "586/586 [==============================] - 2s 3ms/step - loss: 0.1749\n",
      "Epoch 4/10\n",
      "586/586 [==============================] - 1s 2ms/step - loss: 0.1354\n",
      "Epoch 5/10\n",
      "586/586 [==============================] - 1s 2ms/step - loss: 0.1050\n",
      "Epoch 6/10\n",
      "586/586 [==============================] - 1s 2ms/step - loss: 0.0938\n",
      "Epoch 7/10\n",
      "586/586 [==============================] - 1s 2ms/step - loss: 0.0925\n",
      "Epoch 8/10\n",
      "586/586 [==============================] - 1s 2ms/step - loss: 0.0761\n",
      "Epoch 9/10\n",
      "586/586 [==============================] - 1s 2ms/step - loss: 0.0557\n",
      "Epoch 10/10\n",
      "586/586 [==============================] - 2s 3ms/step - loss: 0.0480\n"
     ]
    }
   ],
   "source": [
    "from keras.models import Sequential\n",
    "from keras.layers import Dense\n",
    "\n",
    "from keras.layers import Dropout\n",
    "import numpy as np\n",
    "\n",
    "#Creating the model\n",
    "nn_model = Sequential()\n",
    "nn_model.add(Dense(16,activation='relu'))\n",
    "nn_model.add(Dense(16,activation='relu'))\n",
    "nn_model.add(Dense(1,activation='sigmoid'))\n",
    "\n",
    "#Compilation\n",
    "nn_model.compile(optimizer='rmsprop',loss='binary_crossentropy')\n",
    "\n",
    "#Training the model\n",
    "nn_model.fit(X_train, y_train, epochs = 10, batch_size = 32)\n",
    "               \n",
    "#Predictions\n",
    "nn_predict = nn_model.predict(X_test)"
   ]
  },
  {
   "cell_type": "code",
   "execution_count": 20,
   "id": "f65f95a5",
   "metadata": {
    "execution": {
     "iopub.execute_input": "2022-10-11T18:30:45.615693Z",
     "iopub.status.busy": "2022-10-11T18:30:45.614665Z",
     "iopub.status.idle": "2022-10-11T18:30:45.620032Z",
     "shell.execute_reply": "2022-10-11T18:30:45.619140Z"
    },
    "papermill": {
     "duration": 0.031288,
     "end_time": "2022-10-11T18:30:45.622040",
     "exception": false,
     "start_time": "2022-10-11T18:30:45.590752",
     "status": "completed"
    },
    "tags": []
   },
   "outputs": [],
   "source": [
    "nn_predict[nn_predict >= 0.5] = 1\n",
    "nn_predict[nn_predict < 0.5] = 0"
   ]
  },
  {
   "cell_type": "code",
   "execution_count": 21,
   "id": "ac8689ac",
   "metadata": {
    "execution": {
     "iopub.execute_input": "2022-10-11T18:30:45.669585Z",
     "iopub.status.busy": "2022-10-11T18:30:45.669286Z",
     "iopub.status.idle": "2022-10-11T18:30:45.676108Z",
     "shell.execute_reply": "2022-10-11T18:30:45.675126Z"
    },
    "papermill": {
     "duration": 0.032968,
     "end_time": "2022-10-11T18:30:45.678134",
     "exception": false,
     "start_time": "2022-10-11T18:30:45.645166",
     "status": "completed"
    },
    "tags": []
   },
   "outputs": [],
   "source": [
    "nn_accuracy = accuracy_score(y_test, nn_predict)"
   ]
  },
  {
   "cell_type": "markdown",
   "id": "80ca94cf",
   "metadata": {
    "papermill": {
     "duration": 0.022906,
     "end_time": "2022-10-11T18:30:45.724148",
     "exception": false,
     "start_time": "2022-10-11T18:30:45.701242",
     "status": "completed"
    },
    "tags": []
   },
   "source": [
    "### Evaluation"
   ]
  },
  {
   "cell_type": "code",
   "execution_count": 22,
   "id": "81819901",
   "metadata": {
    "execution": {
     "iopub.execute_input": "2022-10-11T18:30:45.771775Z",
     "iopub.status.busy": "2022-10-11T18:30:45.771405Z",
     "iopub.status.idle": "2022-10-11T18:30:45.975604Z",
     "shell.execute_reply": "2022-10-11T18:30:45.974674Z"
    },
    "papermill": {
     "duration": 0.230744,
     "end_time": "2022-10-11T18:30:45.977926",
     "exception": false,
     "start_time": "2022-10-11T18:30:45.747182",
     "status": "completed"
    },
    "tags": []
   },
   "outputs": [
    {
     "data": {
      "image/png": "[encoded data removed]",
      "text/plain": [
       "<Figure size 432x288 with 1 Axes>"
      ]
     },
     "metadata": {
      "needs_background": "light"
     },
     "output_type": "display_data"
    }
   ],
   "source": [
    "import matplotlib.pyplot as plt\n",
    "\n",
    "plt.bar(['Naive Bayes', 'Logistic Reg.', 'Random Forest', 'Neural Network'], [nb_accuracy, log_accuracy, rf_accuracy, nn_accuracy])\n",
    "plt.ylabel('Accuracy score')\n",
    "plt.show()"
   ]
  },
  {
   "cell_type": "markdown",
   "id": "5d48d0da",
   "metadata": {
    "papermill": {
     "duration": 0.0231,
     "end_time": "2022-10-11T18:30:46.024360",
     "exception": false,
     "start_time": "2022-10-11T18:30:46.001260",
     "status": "completed"
    },
    "tags": []
   },
   "source": [
    "## Data for submission"
   ]
  },
  {
   "cell_type": "code",
   "execution_count": 23,
   "id": "790f2ec7",
   "metadata": {
    "execution": {
     "iopub.execute_input": "2022-10-11T18:30:46.072558Z",
     "iopub.status.busy": "2022-10-11T18:30:46.071642Z",
     "iopub.status.idle": "2022-10-11T18:30:46.875543Z",
     "shell.execute_reply": "2022-10-11T18:30:46.874558Z"
    },
    "papermill": {
     "duration": 0.830763,
     "end_time": "2022-10-11T18:30:46.878213",
     "exception": false,
     "start_time": "2022-10-11T18:30:46.047450",
     "status": "completed"
    },
    "tags": []
   },
   "outputs": [],
   "source": [
    "subm_data = pd.read_csv('../input/word2vec-nlp-tutorial/testData.tsv.zip', sep = '\\t')"
   ]
  },
  {
   "cell_type": "code",
   "execution_count": 24,
   "id": "0997dd16",
   "metadata": {
    "execution": {
     "iopub.execute_input": "2022-10-11T18:30:46.926747Z",
     "iopub.status.busy": "2022-10-11T18:30:46.926391Z",
     "iopub.status.idle": "2022-10-11T18:30:46.935811Z",
     "shell.execute_reply": "2022-10-11T18:30:46.934928Z"
    },
    "papermill": {
     "duration": 0.035729,
     "end_time": "2022-10-11T18:30:46.937695",
     "exception": false,
     "start_time": "2022-10-11T18:30:46.901966",
     "status": "completed"
    },
    "tags": []
   },
   "outputs": [
    {
     "data": {
      "text/html": [
       "<div>\n",
       "<style scoped>\n",
       "    .dataframe tbody tr th:only-of-type {\n",
       "        vertical-align: middle;\n",
       "    }\n",
       "\n",
       "    .dataframe tbody tr th {\n",
       "        vertical-align: top;\n",
       "    }\n",
       "\n",
       "    .dataframe thead th {\n",
       "        text-align: right;\n",
       "    }\n",
       "</style>\n",
       "<table border=\"1\" class=\"dataframe\">\n",
       "  <thead>\n",
       "    <tr style=\"text-align: right;\">\n",
       "      <th></th>\n",
       "      <th>id</th>\n",
       "      <th>review</th>\n",
       "    </tr>\n",
       "  </thead>\n",
       "  <tbody>\n",
       "    <tr>\n",
       "      <th>0</th>\n",
       "      <td>12311_10</td>\n",
       "      <td>Naturally in a film who's main themes are of m...</td>\n",
       "    </tr>\n",
       "    <tr>\n",
       "      <th>1</th>\n",
       "      <td>8348_2</td>\n",
       "      <td>This movie is a disaster within a disaster fil...</td>\n",
       "    </tr>\n",
       "    <tr>\n",
       "      <th>2</th>\n",
       "      <td>5828_4</td>\n",
       "      <td>All in all, this is a movie for kids. We saw i...</td>\n",
       "    </tr>\n",
       "    <tr>\n",
       "      <th>3</th>\n",
       "      <td>7186_2</td>\n",
       "      <td>Afraid of the Dark left me with the impression...</td>\n",
       "    </tr>\n",
       "    <tr>\n",
       "      <th>4</th>\n",
       "      <td>12128_7</td>\n",
       "      <td>A very accurate depiction of small time mob li...</td>\n",
       "    </tr>\n",
       "  </tbody>\n",
       "</table>\n",
       "</div>"
      ],
      "text/plain": [
       "         id                                             review\n",
       "0  12311_10  Naturally in a film who's main themes are of m...\n",
       "1    8348_2  This movie is a disaster within a disaster fil...\n",
       "2    5828_4  All in all, this is a movie for kids. We saw i...\n",
       "3    7186_2  Afraid of the Dark left me with the impression...\n",
       "4   12128_7  A very accurate depiction of small time mob li..."
      ]
     },
     "execution_count": 24,
     "metadata": {},
     "output_type": "execute_result"
    }
   ],
   "source": [
    "subm_data.head()"
   ]
  },
  {
   "cell_type": "markdown",
   "id": "b32b3845",
   "metadata": {
    "papermill": {
     "duration": 0.023003,
     "end_time": "2022-10-11T18:30:46.984019",
     "exception": false,
     "start_time": "2022-10-11T18:30:46.961016",
     "status": "completed"
    },
    "tags": []
   },
   "source": [
    "### Data clean-up"
   ]
  },
  {
   "cell_type": "code",
   "execution_count": 25,
   "id": "b4e1c189",
   "metadata": {
    "execution": {
     "iopub.execute_input": "2022-10-11T18:30:47.032311Z",
     "iopub.status.busy": "2022-10-11T18:30:47.031904Z",
     "iopub.status.idle": "2022-10-11T18:32:47.206245Z",
     "shell.execute_reply": "2022-10-11T18:32:47.205206Z"
    },
    "papermill": {
     "duration": 120.201884,
     "end_time": "2022-10-11T18:32:47.209095",
     "exception": false,
     "start_time": "2022-10-11T18:30:47.007211",
     "status": "completed"
    },
    "tags": []
   },
   "outputs": [
    {
     "name": "stderr",
     "output_type": "stream",
     "text": [
      "/opt/conda/lib/python3.7/site-packages/bs4/__init__.py:439: MarkupResemblesLocatorWarning: The input looks more like a filename than markup. You may want to open this file and pass the filehandle into Beautiful Soup.\n",
      "  MarkupResemblesLocatorWarning\n"
     ]
    }
   ],
   "source": [
    "for i in range(len(data_train)):\n",
    "    subm_data[\"review\"][i] = BeautifulSoup(subm_data[\"review\"][i]).get_text()\n",
    "    subm_data[\"review\"][i] = re.sub(\"[,.;:'-*]\", \" \", subm_data[\"review\"][i])\n",
    "    subm_data[\"review\"][i] = subm_data[\"review\"][i].lower()\n",
    "\n",
    "for w in stopwords.words('english'):\n",
    "    subm_data['review'] = subm_data[\"review\"].str.replace(' ' + str(w) + ' ', ' ')\n",
    "    \n",
    "for i in range(len(data_train)):\n",
    "    subm_data['review'][i] = subm_data['review'][i].split(' ')\n",
    "    subm_data['review'][i] = [lancaster.stem(y) for y in subm_data['review'][i]]\n",
    "    subm_data['review'][i] = ' '.join(subm_data['review'][i])\n",
    "    \n",
    "vectorizer = CountVectorizer(max_features = 5000) \n",
    "\n",
    "x_subm = vectorizer.fit_transform(subm_data['review']).toarray()\n",
    "x_subm = sc.fit_transform(x_subm)"
   ]
  },
  {
   "cell_type": "code",
   "execution_count": 26,
   "id": "bad1cd3c",
   "metadata": {
    "execution": {
     "iopub.execute_input": "2022-10-11T18:32:47.257660Z",
     "iopub.status.busy": "2022-10-11T18:32:47.257343Z",
     "iopub.status.idle": "2022-10-11T18:32:49.664314Z",
     "shell.execute_reply": "2022-10-11T18:32:49.663235Z"
    },
    "papermill": {
     "duration": 2.433782,
     "end_time": "2022-10-11T18:32:49.666861",
     "exception": false,
     "start_time": "2022-10-11T18:32:47.233079",
     "status": "completed"
    },
    "tags": []
   },
   "outputs": [],
   "source": [
    "subm_predictions = nn_model.predict(x_subm)"
   ]
  },
  {
   "cell_type": "code",
   "execution_count": 27,
   "id": "2109690c",
   "metadata": {
    "execution": {
     "iopub.execute_input": "2022-10-11T18:32:49.717399Z",
     "iopub.status.busy": "2022-10-11T18:32:49.717006Z",
     "iopub.status.idle": "2022-10-11T18:32:49.723761Z",
     "shell.execute_reply": "2022-10-11T18:32:49.722809Z"
    },
    "papermill": {
     "duration": 0.034757,
     "end_time": "2022-10-11T18:32:49.726148",
     "exception": false,
     "start_time": "2022-10-11T18:32:49.691391",
     "status": "completed"
    },
    "tags": []
   },
   "outputs": [],
   "source": [
    "subm_predictions[subm_predictions >= 0.5] = 1\n",
    "subm_predictions[subm_predictions < 0.5] = 0"
   ]
  },
  {
   "cell_type": "code",
   "execution_count": 28,
   "id": "1b6ca543",
   "metadata": {
    "execution": {
     "iopub.execute_input": "2022-10-11T18:32:49.778608Z",
     "iopub.status.busy": "2022-10-11T18:32:49.778244Z",
     "iopub.status.idle": "2022-10-11T18:32:49.819210Z",
     "shell.execute_reply": "2022-10-11T18:32:49.818271Z"
    },
    "papermill": {
     "duration": 0.069675,
     "end_time": "2022-10-11T18:32:49.821341",
     "exception": false,
     "start_time": "2022-10-11T18:32:49.751666",
     "status": "completed"
    },
    "tags": []
   },
   "outputs": [],
   "source": [
    "my_submission = pd.DataFrame()\n",
    "my_submission[\"id\"] = subm_data[\"id\"]\n",
    "my_submission[\"sentiment\"] = subm_predictions\n",
    "my_submission.to_csv('submission.csv', index=False)"
   ]
  }
 ],
 "metadata": {
  "kernelspec": {
   "display_name": "Python 3",
   "language": "python",
   "name": "python3"
  },
  "language_info": {
   "codemirror_mode": {
    "name": "ipython",
    "version": 3
   },
   "file_extension": ".py",
   "mimetype": "text/x-python",
   "name": "python",
   "nbconvert_exporter": "python",
   "pygments_lexer": "ipython3",
   "version": "3.7.12"
  },
  "papermill": {
   "default_parameters": {},
   "duration": 358.436986,
   "end_time": "2022-10-11T18:32:52.580604",
   "environment_variables": {},
   "exception": null,
   "input_path": "__notebook__.ipynb",
   "output_path": "__notebook__.ipynb",
   "parameters": {},
   "start_time": "2022-10-11T18:26:54.143618",
   "version": "2.3.4"
  }
 },
 "nbformat": 4,
 "nbformat_minor": 5
}
