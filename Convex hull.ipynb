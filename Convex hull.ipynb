{
 "cells": [
  {
   "cell_type": "markdown",
   "id": "8dcb3002",
   "metadata": {},
   "source": [
    "# Exercise 18 a)\n",
    "\n",
    "Write a function min list() that, given a list of points in R2, returns a minimal list of\n",
    "points that have the same convex hull as the given list. (5 points) \n",
    "\n",
    "Test for L1, L2, L3"
   ]
  },
  {
   "cell_type": "code",
   "execution_count": 315,
   "id": "38783577",
   "metadata": {},
   "outputs": [],
   "source": [
    "L1 = [[0.0, 0.0], [7.0, 0.0], [3.0, 1.0], [5.0, 2.0], [5.0, 5.0], [3.0, 3.0], [1.0, 4.0], [9.0, 6.0]]\n",
    "L2 = [[0.0, 1.0], [1.0, 0.0], [3.0, 1.0], [2.5, 2.0], [1.5,1.0], [1.0,3.0], [1.5,1.5]] \n",
    "L3 =[[0.5,0.5], [1.0,1.0], [0.0,0.5], [1.0,1.5], [0.5,2.0], [1.0,0.5]]"
   ]
  },
  {
   "cell_type": "code",
   "execution_count": 298,
   "id": "f7c341f2",
   "metadata": {},
   "outputs": [],
   "source": [
    "import matplotlib.pyplot as plt\n",
    "import numpy as np\n",
    "import math"
   ]
  },
  {
   "cell_type": "markdown",
   "id": "88f1e585",
   "metadata": {},
   "source": [
    "### Function for finding convex hull"
   ]
  },
  {
   "cell_type": "code",
   "execution_count": 316,
   "id": "c8117a5c",
   "metadata": {},
   "outputs": [],
   "source": [
    "def hull(points):\n",
    "    \"\"\"Function to plot the convex hull\"\"\"\n",
    "    combinations = []\n",
    "    convex_hull = []\n",
    "\n",
    "    for p1 in points:\n",
    "        for p2 in points:\n",
    "            combinations.append([p1, p2])\n",
    "    \n",
    "    for combination in combinations:\n",
    "        if combination[0] != combination[1]:\n",
    "            on_left = 0\n",
    "            for p in points:\n",
    "                val = ((combination[1][0] - combination[0][0])*(p[1] - combination[0][1]) - (combination[1][1] - combination[0][1])*(p[0] - combination[0][0]))\n",
    "                thresh = 1e-9\n",
    "                if val <= -thresh:\n",
    "                    continue\n",
    "                else:\n",
    "                    on_left +=1\n",
    "        \n",
    "            if on_left == (len(points)):\n",
    "                convex_hull.append(combination[0])\n",
    "                convex_hull.append(combination[1])\n",
    "                \n",
    "        else:\n",
    "            continue\n",
    "        \n",
    "    return convex_hull\n",
    "\n",
    "        "
   ]
  },
  {
   "cell_type": "markdown",
   "id": "da7b8b7d",
   "metadata": {},
   "source": [
    "### Function for excluding points lying on the lines of convex hull"
   ]
  },
  {
   "cell_type": "code",
   "execution_count": 317,
   "id": "2b90cbd3",
   "metadata": {},
   "outputs": [],
   "source": [
    "def distance(p1, p2):\n",
    "    return math.sqrt((p1[0] - p2[0])**2 + (p1[1] - p2[1])**2)\n",
    "\n",
    "def is_between(p1, p2, p3):\n",
    "    return distance(p1, p3) + distance(p3, p2) == distance(p1, p2)"
   ]
  },
  {
   "cell_type": "code",
   "execution_count": 318,
   "id": "fb0a92d6",
   "metadata": {},
   "outputs": [],
   "source": [
    "def removing_on_line(points):\n",
    "    points_in_between = []\n",
    "\n",
    "    for p1 in points:\n",
    "        for p2 in points:\n",
    "            for p3 in points:\n",
    "                if p1 != p2 and p2 != p3 and p1 != p3:\n",
    "                    if is_between(p1, p2, p3) == True:\n",
    "                        points_in_between.append(p3) \n",
    "                    \n",
    "    return points_in_between"
   ]
  },
  {
   "cell_type": "markdown",
   "id": "94f90d55",
   "metadata": {},
   "source": [
    "### Function returning a minimal list of points that have the same convex hull as the given list"
   ]
  },
  {
   "cell_type": "code",
   "execution_count": 335,
   "id": "1ea00881",
   "metadata": {},
   "outputs": [],
   "source": [
    "def min_list(points):\n",
    "    convex_hull = hull(points)\n",
    "    excluded_points = removing_on_line(convex_hull)\n",
    "    min_list_hull = [k for k in convex_hull if k not in excluded_points]\n",
    "    \n",
    "    # removing duplicates\n",
    "    min_el = []\n",
    "    for el in min_list_hull:\n",
    "        if el not in min_el:\n",
    "            min_el.append(el)\n",
    "    \n",
    "    return min_el"
   ]
  },
  {
   "cell_type": "markdown",
   "id": "5f671e76",
   "metadata": {},
   "source": [
    "## Solution for L1"
   ]
  },
  {
   "cell_type": "code",
   "execution_count": 336,
   "id": "a7e8c828",
   "metadata": {},
   "outputs": [
    {
     "name": "stdout",
     "output_type": "stream",
     "text": [
      "[[0.0, 0.0], [7.0, 0.0], [9.0, 6.0], [1.0, 4.0]]\n"
     ]
    }
   ],
   "source": [
    "min_list_L1 = min_list(L1)\n",
    "print(min_list_L1)"
   ]
  },
  {
   "cell_type": "code",
   "execution_count": 337,
   "id": "8bbd0608",
   "metadata": {},
   "outputs": [
    {
     "data": {
      "image/png": "[encoded data removed]",
      "text/plain": [
       "<Figure size 432x288 with 1 Axes>"
      ]
     },
     "metadata": {
      "needs_background": "light"
     },
     "output_type": "display_data"
    }
   ],
   "source": [
    "for point in L1:\n",
    "    plt.scatter(point[0], point[1], c = 'blue')\n",
    "    \n",
    "for p in min_list_L1:\n",
    "    plt.scatter(p[0], p[1], c = 'red')\n",
    "    \n",
    "plt.show()"
   ]
  },
  {
   "cell_type": "markdown",
   "id": "5e529a8a",
   "metadata": {},
   "source": [
    "## Solution for L2"
   ]
  },
  {
   "cell_type": "code",
   "execution_count": 338,
   "id": "d5dbe387",
   "metadata": {},
   "outputs": [
    {
     "name": "stdout",
     "output_type": "stream",
     "text": [
      "[[0.0, 1.0], [1.0, 0.0], [3.0, 1.0], [2.5, 2.0], [1.0, 3.0]]\n"
     ]
    }
   ],
   "source": [
    "min_list_L2 = min_list(L2)\n",
    "print(min_list_L2)"
   ]
  },
  {
   "cell_type": "code",
   "execution_count": 339,
   "id": "266c5711",
   "metadata": {},
   "outputs": [
    {
     "data": {
      "image/png": "[encoded data removed]",
      "text/plain": [
       "<Figure size 432x288 with 1 Axes>"
      ]
     },
     "metadata": {
      "needs_background": "light"
     },
     "output_type": "display_data"
    }
   ],
   "source": [
    "for point in L2:\n",
    "    plt.scatter(point[0], point[1], c = 'blue')\n",
    "    \n",
    "for p in min_list_L2:\n",
    "    plt.scatter(p[0], p[1], c = 'red')\n",
    "    \n",
    "plt.show()"
   ]
  },
  {
   "cell_type": "markdown",
   "id": "b8f28e9d",
   "metadata": {},
   "source": [
    "## Solution for L3"
   ]
  },
  {
   "cell_type": "code",
   "execution_count": 341,
   "id": "e563e204",
   "metadata": {},
   "outputs": [
    {
     "name": "stdout",
     "output_type": "stream",
     "text": [
      "[[1.0, 0.5], [1.0, 1.5], [0.0, 0.5], [0.5, 2.0]]\n"
     ]
    }
   ],
   "source": [
    "min_list_L3 = min_list(L3)\n",
    "print(min_list_L3)"
   ]
  },
  {
   "cell_type": "code",
   "execution_count": 342,
   "id": "8232de5d",
   "metadata": {},
   "outputs": [
    {
     "data": {
      "image/png": "[encoded data removed]",
      "text/plain": [
       "<Figure size 432x288 with 1 Axes>"
      ]
     },
     "metadata": {
      "needs_background": "light"
     },
     "output_type": "display_data"
    }
   ],
   "source": [
    "for point in L3:\n",
    "    plt.scatter(point[0], point[1], c = 'blue')\n",
    "    \n",
    "for p in min_list_L3:\n",
    "    plt.scatter(p[0], p[1], c = 'red')\n",
    "    \n",
    "plt.show()"
   ]
  },
  {
   "cell_type": "markdown",
   "id": "edb925b3",
   "metadata": {},
   "source": [
    "# Exercise 18 b)\n",
    "Write a function is in convex hull() that, given a list of points in R2 and another single point P ∈ R2 (in that order), returns true if P lies in the convex hull of the other points, and false otherwise. (3 points) "
   ]
  },
  {
   "cell_type": "code",
   "execution_count": 375,
   "id": "3693e721",
   "metadata": {},
   "outputs": [],
   "source": [
    "def is_in_convex_hull(points, point):\n",
    "    convex_hull = min_list(points) # list of points that make a convex hull\n",
    "            \n",
    "    on_left = 0\n",
    "    for i in range(len(convex_hull)-1):\n",
    "        val = ((convex_hull[i+1][0] - convex_hull[i][0])*(point[1] - convex_hull[i][1]) - (convex_hull[i+1][1] - convex_hull[i][1])*(point[0] - convex_hull[i][0]))\n",
    "        thresh = 1e-9\n",
    "        if val <= -thresh:\n",
    "            return False\n",
    "        else:\n",
    "            on_left +=1\n",
    "    \n",
    "    # Edge case\n",
    "    # Does the point lie between last and first element of convex hull?\n",
    "    val = ((convex_hull[0][0] - convex_hull[-1][0])*(point[1] - convex_hull[-1][1]) - (convex_hull[0][1] - convex_hull[-1][1])*(point[0] - convex_hull[-1][0]))\n",
    "    thresh = 1e-9\n",
    "    if val <= -thresh:\n",
    "        return False\n",
    "    else:\n",
    "        on_left +=1\n",
    "                    \n",
    "    return on_left == len(convex_hull)\n",
    "    "
   ]
  },
  {
   "cell_type": "markdown",
   "id": "1e4a265d",
   "metadata": {},
   "source": [
    "## Solution for P1 = (−1.0, 4.0)"
   ]
  },
  {
   "cell_type": "code",
   "execution_count": 376,
   "id": "5f8d9de9",
   "metadata": {},
   "outputs": [],
   "source": [
    "p1 = [-1.0, 4.0]"
   ]
  },
  {
   "cell_type": "code",
   "execution_count": 378,
   "id": "64a13307",
   "metadata": {},
   "outputs": [
    {
     "name": "stdout",
     "output_type": "stream",
     "text": [
      "Point P1 in L1: False\n",
      "Point P1 in L2: False\n",
      "Point P1 in L3: False\n"
     ]
    }
   ],
   "source": [
    "p1_L1 = is_in_convex_hull(L1, p1)\n",
    "print(\"Point P1 in L1: \" + str(p1_L1))\n",
    "\n",
    "p1_L2 = is_in_convex_hull(L2, p1)\n",
    "print(\"Point P1 in L2: \" + str(p1_L2))\n",
    "\n",
    "p1_L3 = is_in_convex_hull(L3, p1)\n",
    "print(\"Point P1 in L3: \" + str(p1_L3))"
   ]
  },
  {
   "cell_type": "markdown",
   "id": "2b9cb526",
   "metadata": {},
   "source": [
    "## Solution for P2 = (0.5, 0.5)"
   ]
  },
  {
   "cell_type": "code",
   "execution_count": 385,
   "id": "edf91b37",
   "metadata": {},
   "outputs": [],
   "source": [
    "p2 = [0.5, 0.5]"
   ]
  },
  {
   "cell_type": "code",
   "execution_count": 386,
   "id": "9940e7fa",
   "metadata": {},
   "outputs": [
    {
     "name": "stdout",
     "output_type": "stream",
     "text": [
      "Point P2 in L1: True\n",
      "Point P2 in L2: True\n",
      "Point P2 in L3: False\n"
     ]
    }
   ],
   "source": [
    "p2_L1 = is_in_convex_hull(L1, p2)\n",
    "print(\"Point P2 in L1: \" + str(p2_L1))\n",
    "\n",
    "p2_L2 = is_in_convex_hull(L2, p2)\n",
    "print(\"Point P2 in L2: \" + str(p2_L2))\n",
    "\n",
    "p2_L3 = is_in_convex_hull(L3, p2)\n",
    "print(\"Point P2 in L3: \" + str(p2_L3))"
   ]
  },
  {
   "cell_type": "markdown",
   "id": "407770b2",
   "metadata": {},
   "source": [
    "## Solution for P3 = (5.0, 3.0)"
   ]
  },
  {
   "cell_type": "code",
   "execution_count": 383,
   "id": "2dec8373",
   "metadata": {},
   "outputs": [],
   "source": [
    "p3 = [5.0, 3.0]"
   ]
  },
  {
   "cell_type": "code",
   "execution_count": 384,
   "id": "bd479123",
   "metadata": {},
   "outputs": [
    {
     "name": "stdout",
     "output_type": "stream",
     "text": [
      "Point P3 in L1: True\n",
      "Point P3 in L2: False\n",
      "Point P3 in L3: False\n"
     ]
    }
   ],
   "source": [
    "p3_L1 = is_in_convex_hull(L1, p3)\n",
    "print(\"Point P3 in L1: \" + str(p3_L1))\n",
    "\n",
    "p3_L2 = is_in_convex_hull(L2, p3)\n",
    "print(\"Point P3 in L2: \" + str(p3_L2))\n",
    "\n",
    "p3_L3 = is_in_convex_hull(L3, p3)\n",
    "print(\"Point P3 in L3: \" + str(p3_L3))"
   ]
  }
 ],
 "metadata": {
  "kernelspec": {
   "display_name": "Python 3 (ipykernel)",
   "language": "python",
   "name": "python3"
  },
  "language_info": {
   "codemirror_mode": {
    "name": "ipython",
    "version": 3
   },
   "file_extension": ".py",
   "mimetype": "text/x-python",
   "name": "python",
   "nbconvert_exporter": "python",
   "pygments_lexer": "ipython3",
   "version": "3.9.7"
  }
 },
 "nbformat": 4,
 "nbformat_minor": 5
}
